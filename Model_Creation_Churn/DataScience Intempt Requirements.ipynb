{
 "cells": [
  {
   "cell_type": "markdown",
   "id": "6dca4ed1",
   "metadata": {},
   "source": [
    "# Documentation"
   ]
  },
  {
   "cell_type": "markdown",
   "id": "7515c0e2",
   "metadata": {},
   "source": [
    "You will need to provide a number of files for intempt to be able to process the model:\n",
    "\n",
    "* a pickle file containing the datacolumns from intempt used for the model\n",
    "* a pickle file containing the pre-process performed on the data from intempt\n",
    "* a pickle file containing the transform performed on the data from intempt\n",
    "* a pickle file containing the model itself after training\n",
    "* the libraries used for your process (requirements.txt)\n"
   ]
  },
  {
   "cell_type": "markdown",
   "id": "6dac5122",
   "metadata": {},
   "source": [
    "### Define pickle function"
   ]
  },
  {
   "cell_type": "markdown",
   "id": "3bfbf3d8",
   "metadata": {},
   "source": [
    "This section is optional and is based on your preferences but for ease of use we suggest creating a function that will take care of creating the pickle file. So create once but call it anytime needed"
   ]
  },
  {
   "cell_type": "code",
   "execution_count": 1,
   "id": "b024fc4f",
   "metadata": {},
   "outputs": [],
   "source": [
    "import dill as pickle\n",
    "\n",
    "def save_pkl(object_to_store, name: str, path: str = './'):\n",
    "    \"\"\"\n",
    "    :param object_to_store: object to pickle\n",
    "    :param name: name to save pickle\n",
    "    :param path: path to save pickle\n",
    "    \"\"\"\n",
    "    with open('{}/{}.pkl'.format(path, name), 'wb') as file:\n",
    "        pickle.dump(object_to_store, file)"
   ]
  },
  {
   "cell_type": "markdown",
   "id": "2e772a06",
   "metadata": {},
   "source": [
    "## Load Data"
   ]
  },
  {
   "cell_type": "code",
   "execution_count": 2,
   "id": "84bc7fdd",
   "metadata": {},
   "outputs": [
    {
     "data": {
      "text/html": [
       "<div>\n",
       "<style scoped>\n",
       "    .dataframe tbody tr th:only-of-type {\n",
       "        vertical-align: middle;\n",
       "    }\n",
       "\n",
       "    .dataframe tbody tr th {\n",
       "        vertical-align: top;\n",
       "    }\n",
       "\n",
       "    .dataframe thead th {\n",
       "        text-align: right;\n",
       "    }\n",
       "</style>\n",
       "<table border=\"1\" class=\"dataframe\">\n",
       "  <thead>\n",
       "    <tr style=\"text-align: right;\">\n",
       "      <th></th>\n",
       "      <th>org_id</th>\n",
       "      <th>churn</th>\n",
       "    </tr>\n",
       "  </thead>\n",
       "  <tbody>\n",
       "    <tr>\n",
       "      <th>0</th>\n",
       "      <td>1</td>\n",
       "      <td>[{'customerID': '6823-SIDFQ', 'gender': 'Male'...</td>\n",
       "    </tr>\n",
       "  </tbody>\n",
       "</table>\n",
       "</div>"
      ],
      "text/plain": [
       "   org_id                                              churn\n",
       "0       1  [{'customerID': '6823-SIDFQ', 'gender': 'Male'..."
      ]
     },
     "execution_count": 2,
     "metadata": {},
     "output_type": "execute_result"
    }
   ],
   "source": [
    "from fastavro import parse_schema, json_reader\n",
    "from pandas import DataFrame\n",
    "\n",
    "schemas = {}\n",
    "schema = {\n",
    "    'doc': 'Predict Customer Churn',\n",
    "    'name': 'Churn',\n",
    "    'namespace': 'test',\n",
    "    'type': 'record',\n",
    "    'fields': [\n",
    "        {'name': 'customerID', 'type': 'string'},\n",
    "        {'name': 'gender', 'type': 'string'},\n",
    "        {'name': 'SeniorCitizen', 'type': 'int'},\n",
    "        {'name': 'Partner', 'type': 'string'},\n",
    "        {'name': 'Dependents', 'type': 'string'},\n",
    "        {'name': 'tenure', 'type': 'int'},\n",
    "        {'name': 'PhoneService', 'type': 'string'},\n",
    "        {'name': 'MultipleLines', 'type': 'string'},\n",
    "        {'name': 'InternetService', 'type': 'string'},\n",
    "        {'name': 'OnlineSecurity', 'type': 'string'},\n",
    "        {'name': 'OnlineBackup', 'type': 'string'},\n",
    "        {'name': 'DeviceProtection', 'type': 'string'},\n",
    "        {'name': 'TechSupport', 'type': 'string'},\n",
    "        {'name': 'StreamingTV', 'type': 'string'},\n",
    "        {'name': 'StreamingMovies', 'type': 'string'},\n",
    "        {'name': 'Contract', 'type': 'string'},\n",
    "        {'name': 'PaperlessBilling', 'type': 'string'},\n",
    "        {'name': 'PaymentMethod', 'type': 'string'},\n",
    "        {'name': 'MonthlyCharges', 'type': 'float'},\n",
    "        {'name': 'TotalCharges', 'type': 'float'},\n",
    "        {'name': 'Churn', 'type': 'string'}\n",
    "    ],\n",
    "}\n",
    "\n",
    "schemas['churn'] = parse_schema(schema)\n",
    "\n",
    "\n",
    "def load(collection):\n",
    "    records = []\n",
    "    with open(collection + '.json', 'r') as fo:\n",
    "        avro_reader = json_reader(fo, schemas[collection])\n",
    "        for record in avro_reader:\n",
    "            records.append(record)\n",
    "    return records\n",
    "\n",
    "\n",
    "data = {\n",
    "    'org_id': 1,  # organization id (added by the \"loader\")\n",
    "    'churn': [load('churn')],  # bonuses for this user\n",
    "}\n",
    "\n",
    "\n",
    "dataframe = DataFrame(data)\n",
    "dataframe.head()"
   ]
  },
  {
   "cell_type": "code",
   "execution_count": 3,
   "id": "c4bd1033",
   "metadata": {},
   "outputs": [
    {
     "data": {
      "text/html": [
       "<div>\n",
       "<style scoped>\n",
       "    .dataframe tbody tr th:only-of-type {\n",
       "        vertical-align: middle;\n",
       "    }\n",
       "\n",
       "    .dataframe tbody tr th {\n",
       "        vertical-align: top;\n",
       "    }\n",
       "\n",
       "    .dataframe thead th {\n",
       "        text-align: right;\n",
       "    }\n",
       "</style>\n",
       "<table border=\"1\" class=\"dataframe\">\n",
       "  <thead>\n",
       "    <tr style=\"text-align: right;\">\n",
       "      <th></th>\n",
       "      <th>org_id</th>\n",
       "      <th>customerID</th>\n",
       "      <th>gender</th>\n",
       "      <th>SeniorCitizen</th>\n",
       "      <th>Partner</th>\n",
       "      <th>Dependents</th>\n",
       "      <th>tenure</th>\n",
       "      <th>PhoneService</th>\n",
       "      <th>MultipleLines</th>\n",
       "      <th>InternetService</th>\n",
       "      <th>...</th>\n",
       "      <th>DeviceProtection</th>\n",
       "      <th>TechSupport</th>\n",
       "      <th>StreamingTV</th>\n",
       "      <th>StreamingMovies</th>\n",
       "      <th>Contract</th>\n",
       "      <th>PaperlessBilling</th>\n",
       "      <th>PaymentMethod</th>\n",
       "      <th>MonthlyCharges</th>\n",
       "      <th>TotalCharges</th>\n",
       "      <th>Churn</th>\n",
       "    </tr>\n",
       "  </thead>\n",
       "  <tbody>\n",
       "    <tr>\n",
       "      <th>0</th>\n",
       "      <td>1</td>\n",
       "      <td>6823-SIDFQ</td>\n",
       "      <td>Male</td>\n",
       "      <td>0</td>\n",
       "      <td>No</td>\n",
       "      <td>No</td>\n",
       "      <td>28</td>\n",
       "      <td>Yes</td>\n",
       "      <td>No</td>\n",
       "      <td>No</td>\n",
       "      <td>...</td>\n",
       "      <td>No internet service</td>\n",
       "      <td>No internet service</td>\n",
       "      <td>No internet service</td>\n",
       "      <td>No internet service</td>\n",
       "      <td>One year</td>\n",
       "      <td>No</td>\n",
       "      <td>Credit card (automatic)</td>\n",
       "      <td>18.25</td>\n",
       "      <td>534.70</td>\n",
       "      <td>0</td>\n",
       "    </tr>\n",
       "    <tr>\n",
       "      <th>1</th>\n",
       "      <td>1</td>\n",
       "      <td>9764-REAFF</td>\n",
       "      <td>Female</td>\n",
       "      <td>0</td>\n",
       "      <td>Yes</td>\n",
       "      <td>No</td>\n",
       "      <td>59</td>\n",
       "      <td>Yes</td>\n",
       "      <td>No</td>\n",
       "      <td>No</td>\n",
       "      <td>...</td>\n",
       "      <td>No internet service</td>\n",
       "      <td>No internet service</td>\n",
       "      <td>No internet service</td>\n",
       "      <td>No internet service</td>\n",
       "      <td>Two year</td>\n",
       "      <td>No</td>\n",
       "      <td>Bank transfer (automatic)</td>\n",
       "      <td>18.40</td>\n",
       "      <td>1057.85</td>\n",
       "      <td>0</td>\n",
       "    </tr>\n",
       "    <tr>\n",
       "      <th>2</th>\n",
       "      <td>1</td>\n",
       "      <td>0827-ITJPH</td>\n",
       "      <td>Male</td>\n",
       "      <td>0</td>\n",
       "      <td>No</td>\n",
       "      <td>No</td>\n",
       "      <td>36</td>\n",
       "      <td>Yes</td>\n",
       "      <td>No</td>\n",
       "      <td>No</td>\n",
       "      <td>...</td>\n",
       "      <td>No internet service</td>\n",
       "      <td>No internet service</td>\n",
       "      <td>No internet service</td>\n",
       "      <td>No internet service</td>\n",
       "      <td>Two year</td>\n",
       "      <td>Yes</td>\n",
       "      <td>Credit card (automatic)</td>\n",
       "      <td>18.55</td>\n",
       "      <td>689.00</td>\n",
       "      <td>0</td>\n",
       "    </tr>\n",
       "    <tr>\n",
       "      <th>3</th>\n",
       "      <td>1</td>\n",
       "      <td>9945-PSVIP</td>\n",
       "      <td>Female</td>\n",
       "      <td>0</td>\n",
       "      <td>Yes</td>\n",
       "      <td>Yes</td>\n",
       "      <td>25</td>\n",
       "      <td>Yes</td>\n",
       "      <td>No</td>\n",
       "      <td>No</td>\n",
       "      <td>...</td>\n",
       "      <td>No internet service</td>\n",
       "      <td>No internet service</td>\n",
       "      <td>No internet service</td>\n",
       "      <td>No internet service</td>\n",
       "      <td>Two year</td>\n",
       "      <td>Yes</td>\n",
       "      <td>Mailed check</td>\n",
       "      <td>18.70</td>\n",
       "      <td>383.65</td>\n",
       "      <td>0</td>\n",
       "    </tr>\n",
       "    <tr>\n",
       "      <th>4</th>\n",
       "      <td>1</td>\n",
       "      <td>0621-CXBKL</td>\n",
       "      <td>Female</td>\n",
       "      <td>0</td>\n",
       "      <td>No</td>\n",
       "      <td>No</td>\n",
       "      <td>53</td>\n",
       "      <td>Yes</td>\n",
       "      <td>No</td>\n",
       "      <td>No</td>\n",
       "      <td>...</td>\n",
       "      <td>No internet service</td>\n",
       "      <td>No internet service</td>\n",
       "      <td>No internet service</td>\n",
       "      <td>No internet service</td>\n",
       "      <td>Two year</td>\n",
       "      <td>No</td>\n",
       "      <td>Mailed check</td>\n",
       "      <td>18.70</td>\n",
       "      <td>1005.70</td>\n",
       "      <td>0</td>\n",
       "    </tr>\n",
       "  </tbody>\n",
       "</table>\n",
       "<p>5 rows × 22 columns</p>\n",
       "</div>"
      ],
      "text/plain": [
       "   org_id  customerID  gender  SeniorCitizen Partner Dependents  tenure  \\\n",
       "0       1  6823-SIDFQ    Male              0      No         No      28   \n",
       "1       1  9764-REAFF  Female              0     Yes         No      59   \n",
       "2       1  0827-ITJPH    Male              0      No         No      36   \n",
       "3       1  9945-PSVIP  Female              0     Yes        Yes      25   \n",
       "4       1  0621-CXBKL  Female              0      No         No      53   \n",
       "\n",
       "  PhoneService MultipleLines InternetService  ...     DeviceProtection  \\\n",
       "0          Yes            No              No  ...  No internet service   \n",
       "1          Yes            No              No  ...  No internet service   \n",
       "2          Yes            No              No  ...  No internet service   \n",
       "3          Yes            No              No  ...  No internet service   \n",
       "4          Yes            No              No  ...  No internet service   \n",
       "\n",
       "           TechSupport          StreamingTV      StreamingMovies  Contract  \\\n",
       "0  No internet service  No internet service  No internet service  One year   \n",
       "1  No internet service  No internet service  No internet service  Two year   \n",
       "2  No internet service  No internet service  No internet service  Two year   \n",
       "3  No internet service  No internet service  No internet service  Two year   \n",
       "4  No internet service  No internet service  No internet service  Two year   \n",
       "\n",
       "  PaperlessBilling              PaymentMethod MonthlyCharges TotalCharges  \\\n",
       "0               No    Credit card (automatic)          18.25       534.70   \n",
       "1               No  Bank transfer (automatic)          18.40      1057.85   \n",
       "2              Yes    Credit card (automatic)          18.55       689.00   \n",
       "3              Yes               Mailed check          18.70       383.65   \n",
       "4               No               Mailed check          18.70      1005.70   \n",
       "\n",
       "   Churn  \n",
       "0      0  \n",
       "1      0  \n",
       "2      0  \n",
       "3      0  \n",
       "4      0  \n",
       "\n",
       "[5 rows x 22 columns]"
      ]
     },
     "execution_count": 3,
     "metadata": {},
     "output_type": "execute_result"
    }
   ],
   "source": [
    "import ast\n",
    "import pandas as pd \n",
    "import numpy as np\n",
    "\n",
    "# Get bonus data\n",
    "churn_df1 = dataframe['churn'].astype(str).dropna().apply(ast.literal_eval)\n",
    "churn_df2 = pd.concat([pd.DataFrame(x) for x in churn_df1], keys=churn_df1.index)\n",
    "churn = dataframe[['org_id']].join(churn_df2.reset_index(level=1, drop=True)).reset_index(drop=True)\n",
    "\n",
    "# replace blanks with np.nan\n",
    "churn['TotalCharges'] = churn['TotalCharges'].replace(' ', np.nan)\n",
    "# convert to float64\n",
    "churn['TotalCharges'] = churn['TotalCharges'].astype('float64')\n",
    "\n",
    "# Convert Target to 1 and 0\n",
    "churn.loc[churn['Churn'] == 'Yes', 'Churn'] = 1\n",
    "churn.loc[churn['Churn'] == 'No', 'Churn'] = 0\n",
    "\n",
    "churn['Churn'].astype('int')\n",
    "\n",
    "churn.head()"
   ]
  },
  {
   "cell_type": "code",
   "execution_count": 4,
   "id": "7be3ced6",
   "metadata": {},
   "outputs": [
    {
     "name": "stdout",
     "output_type": "stream",
     "text": [
      "<class 'pandas.core.frame.DataFrame'>\n",
      "RangeIndex: 7032 entries, 0 to 7031\n",
      "Data columns (total 22 columns):\n",
      " #   Column            Non-Null Count  Dtype  \n",
      "---  ------            --------------  -----  \n",
      " 0   org_id            7032 non-null   int64  \n",
      " 1   customerID        7032 non-null   object \n",
      " 2   gender            7032 non-null   object \n",
      " 3   SeniorCitizen     7032 non-null   int64  \n",
      " 4   Partner           7032 non-null   object \n",
      " 5   Dependents        7032 non-null   object \n",
      " 6   tenure            7032 non-null   int64  \n",
      " 7   PhoneService      7032 non-null   object \n",
      " 8   MultipleLines     7032 non-null   object \n",
      " 9   InternetService   7032 non-null   object \n",
      " 10  OnlineSecurity    7032 non-null   object \n",
      " 11  OnlineBackup      7032 non-null   object \n",
      " 12  DeviceProtection  7032 non-null   object \n",
      " 13  TechSupport       7032 non-null   object \n",
      " 14  StreamingTV       7032 non-null   object \n",
      " 15  StreamingMovies   7032 non-null   object \n",
      " 16  Contract          7032 non-null   object \n",
      " 17  PaperlessBilling  7032 non-null   object \n",
      " 18  PaymentMethod     7032 non-null   object \n",
      " 19  MonthlyCharges    7032 non-null   float64\n",
      " 20  TotalCharges      7032 non-null   float64\n",
      " 21  Churn             7032 non-null   object \n",
      "dtypes: float64(2), int64(3), object(17)\n",
      "memory usage: 1.2+ MB\n"
     ]
    }
   ],
   "source": [
    "churn.info()"
   ]
  },
  {
   "cell_type": "code",
   "execution_count": 5,
   "id": "283d7b13",
   "metadata": {},
   "outputs": [
    {
     "name": "stdout",
     "output_type": "stream",
     "text": [
      "Original Columns = 22\n",
      "--------------------------------------------------------\n",
      "Skewed Columns = 0: []\n",
      "Normalized Columns = 4: ['SeniorCitizen', 'MonthlyCharges', 'TotalCharges', 'tenure']\n",
      "categorical Columns = 16: ['gender', 'Partner', 'Dependents', 'PhoneService', 'MultipleLines', 'InternetService', 'OnlineSecurity', 'OnlineBackup', 'DeviceProtection', 'TechSupport', 'StreamingTV', 'StreamingMovies', 'Contract', 'PaperlessBilling', 'PaymentMethod', 'Churn']\n",
      "--------------------------------------------------------\n",
      "Total Columns Transformed = 20\n"
     ]
    }
   ],
   "source": [
    "def create_transformer(tr_name):\n",
    "            from sklearn.preprocessing import MinMaxScaler, RobustScaler, OneHotEncoder\n",
    "\n",
    "            if tr_name == 'one_hot':\n",
    "                cols_tr = OneHotEncoder(handle_unknown='ignore')\n",
    "            elif tr_name == 'robust':\n",
    "                cols_tr = RobustScaler()\n",
    "            elif tr_name == 'minmax':\n",
    "                cols_tr = MinMaxScaler()\n",
    "            return cols_tr\n",
    "\n",
    "column_stats = pd.DataFrame()\n",
    "transformers_list = dict()\n",
    "\n",
    "scalar_cols = [x for x in list(churn.select_dtypes(include=['float64', 'int64']))]\n",
    "categorical_cols = [x for x in list(churn.select_dtypes(include=['object']))]\n",
    "\n",
    "# We don't need to preprocess those columns\n",
    "scalar_cols.remove('org_id')\n",
    "categorical_cols.remove('customerID')\n",
    "\n",
    "stats_cols = ['kurtosis', 'skew']  # , 'median', 'iqr', 'mad', 'mean', 'std', 'min', 'max']\n",
    "\n",
    "\n",
    "for fun in stats_cols:\n",
    "     column_stats[str(fun)] = churn[scalar_cols].apply(fun)\n",
    "\n",
    "ks_rule = column_stats.loc[(abs(column_stats['skew']) > 3) | (column_stats['kurtosis'] > 3)].index\n",
    "\n",
    "skewed_cols = list(set(ks_rule)) \n",
    "normalized_cols = list(set(scalar_cols) - set(skewed_cols)) \n",
    "\n",
    "\n",
    "print('Original Columns = ' + str(churn.shape[1]))\n",
    "print('--------------------------------------------------------')\n",
    "print('Skewed Columns = ' + str(len(skewed_cols)) + ': ' + str(skewed_cols))\n",
    "print('Normalized Columns = ' + str(len(normalized_cols)) + ': ' + str(normalized_cols)) \n",
    "print('categorical Columns = ' + str(len(categorical_cols)) + ': ' + str(categorical_cols)) \n",
    "\n",
    "print('--------------------------------------------------------')\n",
    "print('Total Columns Transformed = ' + str(len(skewed_cols) + len(normalized_cols) + len(categorical_cols)))\n",
    "      \n",
    "\n",
    "# for skewed_col in skewed_cols:\n",
    "#         sk_cols_tr = create_transformer('robust')\n",
    "#         sk_cols_tr.fit(churn[skewed_col].values.reshape(-1, 1))\n",
    "#         transformers_list[skewed_col] = sk_cols_tr\n",
    "        \n",
    "# for norm_col in normalized_cols:\n",
    "#         norm_cols_tr = create_transformer('minmax')\n",
    "#         norm_cols_tr.fit(churn[norm_col].values.reshape(-1, 1))\n",
    "#         transformers_list[norm_col] = norm_cols_tr        \n",
    "\n",
    "# for skewed_col in skewed_cols:\n",
    "#         num_cols_tr = transformers_list[skewed_col]\n",
    "#         churn[skewed_col] = num_cols_tr.transform(churn[skewed_col].values.reshape(-1, 1))\n",
    "\n",
    "# for norm_col in normalized_cols:\n",
    "#         num_cols_tr = transformers_list[norm_col]\n",
    "#         churn[norm_col] = num_cols_tr.transform(churn[norm_col].values.reshape(-1, 1))\n",
    "\n"
   ]
  },
  {
   "cell_type": "code",
   "execution_count": 6,
   "id": "ba887790",
   "metadata": {},
   "outputs": [
    {
     "data": {
      "text/html": [
       "<div>\n",
       "<style scoped>\n",
       "    .dataframe tbody tr th:only-of-type {\n",
       "        vertical-align: middle;\n",
       "    }\n",
       "\n",
       "    .dataframe tbody tr th {\n",
       "        vertical-align: top;\n",
       "    }\n",
       "\n",
       "    .dataframe thead th {\n",
       "        text-align: right;\n",
       "    }\n",
       "</style>\n",
       "<table border=\"1\" class=\"dataframe\">\n",
       "  <thead>\n",
       "    <tr style=\"text-align: right;\">\n",
       "      <th></th>\n",
       "      <th>org_id</th>\n",
       "      <th>customerID</th>\n",
       "      <th>gender</th>\n",
       "      <th>SeniorCitizen</th>\n",
       "      <th>Partner</th>\n",
       "      <th>Dependents</th>\n",
       "      <th>tenure</th>\n",
       "      <th>PhoneService</th>\n",
       "      <th>MultipleLines</th>\n",
       "      <th>InternetService</th>\n",
       "      <th>...</th>\n",
       "      <th>DeviceProtection</th>\n",
       "      <th>TechSupport</th>\n",
       "      <th>StreamingTV</th>\n",
       "      <th>StreamingMovies</th>\n",
       "      <th>Contract</th>\n",
       "      <th>PaperlessBilling</th>\n",
       "      <th>PaymentMethod</th>\n",
       "      <th>MonthlyCharges</th>\n",
       "      <th>TotalCharges</th>\n",
       "      <th>Churn</th>\n",
       "    </tr>\n",
       "  </thead>\n",
       "  <tbody>\n",
       "    <tr>\n",
       "      <th>0</th>\n",
       "      <td>1</td>\n",
       "      <td>6823-SIDFQ</td>\n",
       "      <td>Male</td>\n",
       "      <td>0</td>\n",
       "      <td>No</td>\n",
       "      <td>No</td>\n",
       "      <td>28</td>\n",
       "      <td>Yes</td>\n",
       "      <td>No</td>\n",
       "      <td>No</td>\n",
       "      <td>...</td>\n",
       "      <td>No internet service</td>\n",
       "      <td>No internet service</td>\n",
       "      <td>No internet service</td>\n",
       "      <td>No internet service</td>\n",
       "      <td>One year</td>\n",
       "      <td>No</td>\n",
       "      <td>Credit card (automatic)</td>\n",
       "      <td>18.25</td>\n",
       "      <td>534.70</td>\n",
       "      <td>0</td>\n",
       "    </tr>\n",
       "    <tr>\n",
       "      <th>1</th>\n",
       "      <td>1</td>\n",
       "      <td>9764-REAFF</td>\n",
       "      <td>Female</td>\n",
       "      <td>0</td>\n",
       "      <td>Yes</td>\n",
       "      <td>No</td>\n",
       "      <td>59</td>\n",
       "      <td>Yes</td>\n",
       "      <td>No</td>\n",
       "      <td>No</td>\n",
       "      <td>...</td>\n",
       "      <td>No internet service</td>\n",
       "      <td>No internet service</td>\n",
       "      <td>No internet service</td>\n",
       "      <td>No internet service</td>\n",
       "      <td>Two year</td>\n",
       "      <td>No</td>\n",
       "      <td>Bank transfer (automatic)</td>\n",
       "      <td>18.40</td>\n",
       "      <td>1057.85</td>\n",
       "      <td>0</td>\n",
       "    </tr>\n",
       "    <tr>\n",
       "      <th>2</th>\n",
       "      <td>1</td>\n",
       "      <td>0827-ITJPH</td>\n",
       "      <td>Male</td>\n",
       "      <td>0</td>\n",
       "      <td>No</td>\n",
       "      <td>No</td>\n",
       "      <td>36</td>\n",
       "      <td>Yes</td>\n",
       "      <td>No</td>\n",
       "      <td>No</td>\n",
       "      <td>...</td>\n",
       "      <td>No internet service</td>\n",
       "      <td>No internet service</td>\n",
       "      <td>No internet service</td>\n",
       "      <td>No internet service</td>\n",
       "      <td>Two year</td>\n",
       "      <td>Yes</td>\n",
       "      <td>Credit card (automatic)</td>\n",
       "      <td>18.55</td>\n",
       "      <td>689.00</td>\n",
       "      <td>0</td>\n",
       "    </tr>\n",
       "    <tr>\n",
       "      <th>3</th>\n",
       "      <td>1</td>\n",
       "      <td>9945-PSVIP</td>\n",
       "      <td>Female</td>\n",
       "      <td>0</td>\n",
       "      <td>Yes</td>\n",
       "      <td>Yes</td>\n",
       "      <td>25</td>\n",
       "      <td>Yes</td>\n",
       "      <td>No</td>\n",
       "      <td>No</td>\n",
       "      <td>...</td>\n",
       "      <td>No internet service</td>\n",
       "      <td>No internet service</td>\n",
       "      <td>No internet service</td>\n",
       "      <td>No internet service</td>\n",
       "      <td>Two year</td>\n",
       "      <td>Yes</td>\n",
       "      <td>Mailed check</td>\n",
       "      <td>18.70</td>\n",
       "      <td>383.65</td>\n",
       "      <td>0</td>\n",
       "    </tr>\n",
       "    <tr>\n",
       "      <th>4</th>\n",
       "      <td>1</td>\n",
       "      <td>0621-CXBKL</td>\n",
       "      <td>Female</td>\n",
       "      <td>0</td>\n",
       "      <td>No</td>\n",
       "      <td>No</td>\n",
       "      <td>53</td>\n",
       "      <td>Yes</td>\n",
       "      <td>No</td>\n",
       "      <td>No</td>\n",
       "      <td>...</td>\n",
       "      <td>No internet service</td>\n",
       "      <td>No internet service</td>\n",
       "      <td>No internet service</td>\n",
       "      <td>No internet service</td>\n",
       "      <td>Two year</td>\n",
       "      <td>No</td>\n",
       "      <td>Mailed check</td>\n",
       "      <td>18.70</td>\n",
       "      <td>1005.70</td>\n",
       "      <td>0</td>\n",
       "    </tr>\n",
       "  </tbody>\n",
       "</table>\n",
       "<p>5 rows × 22 columns</p>\n",
       "</div>"
      ],
      "text/plain": [
       "   org_id  customerID  gender  SeniorCitizen Partner Dependents  tenure  \\\n",
       "0       1  6823-SIDFQ    Male              0      No         No      28   \n",
       "1       1  9764-REAFF  Female              0     Yes         No      59   \n",
       "2       1  0827-ITJPH    Male              0      No         No      36   \n",
       "3       1  9945-PSVIP  Female              0     Yes        Yes      25   \n",
       "4       1  0621-CXBKL  Female              0      No         No      53   \n",
       "\n",
       "  PhoneService MultipleLines InternetService  ...     DeviceProtection  \\\n",
       "0          Yes            No              No  ...  No internet service   \n",
       "1          Yes            No              No  ...  No internet service   \n",
       "2          Yes            No              No  ...  No internet service   \n",
       "3          Yes            No              No  ...  No internet service   \n",
       "4          Yes            No              No  ...  No internet service   \n",
       "\n",
       "           TechSupport          StreamingTV      StreamingMovies  Contract  \\\n",
       "0  No internet service  No internet service  No internet service  One year   \n",
       "1  No internet service  No internet service  No internet service  Two year   \n",
       "2  No internet service  No internet service  No internet service  Two year   \n",
       "3  No internet service  No internet service  No internet service  Two year   \n",
       "4  No internet service  No internet service  No internet service  Two year   \n",
       "\n",
       "  PaperlessBilling              PaymentMethod MonthlyCharges TotalCharges  \\\n",
       "0               No    Credit card (automatic)          18.25       534.70   \n",
       "1               No  Bank transfer (automatic)          18.40      1057.85   \n",
       "2              Yes    Credit card (automatic)          18.55       689.00   \n",
       "3              Yes               Mailed check          18.70       383.65   \n",
       "4               No               Mailed check          18.70      1005.70   \n",
       "\n",
       "   Churn  \n",
       "0      0  \n",
       "1      0  \n",
       "2      0  \n",
       "3      0  \n",
       "4      0  \n",
       "\n",
       "[5 rows x 22 columns]"
      ]
     },
     "execution_count": 6,
     "metadata": {},
     "output_type": "execute_result"
    }
   ],
   "source": [
    "churn.head()"
   ]
  },
  {
   "cell_type": "code",
   "execution_count": null,
   "id": "012efc57",
   "metadata": {},
   "outputs": [],
   "source": []
  },
  {
   "cell_type": "markdown",
   "id": "8f63dc81",
   "metadata": {},
   "source": [
    "## Create feature_names.pkl"
   ]
  },
  {
   "cell_type": "markdown",
   "id": "3cec748d",
   "metadata": {},
   "source": [
    "You might have downloaded all the data avaialble from Intempt but your model is only using a subset of that data. We would need to know what data we would need to feed the model"
   ]
  },
  {
   "cell_type": "code",
   "execution_count": 7,
   "id": "2ed5a9cd",
   "metadata": {},
   "outputs": [],
   "source": [
    "feature_names = ['churn']"
   ]
  },
  {
   "cell_type": "code",
   "execution_count": 8,
   "id": "1cc5144a",
   "metadata": {},
   "outputs": [],
   "source": [
    "# Use save_pkl function to store feature_names object\n",
    "save_pkl(object_to_store = feature_names, name = \"feature_names\")"
   ]
  },
  {
   "cell_type": "markdown",
   "id": "28280a36",
   "metadata": {},
   "source": [
    "## Create preprocess_function.pkl"
   ]
  },
  {
   "cell_type": "markdown",
   "id": "3b1cb7a0",
   "metadata": {},
   "source": [
    "If any preprocess occured on the dataloaded from intempt we would need to know this process so we can apply it from our end. This step can be skipped since you might be using aggrepages directly from Intempt. In such a case you just need to define something like:"
   ]
  },
  {
   "cell_type": "markdown",
   "id": "c70ed8e2",
   "metadata": {},
   "source": [
    "In case you added some content or created your own aggregates make sure to include them in the function:"
   ]
  },
  {
   "cell_type": "code",
   "execution_count": 9,
   "id": "9931f6ac",
   "metadata": {},
   "outputs": [],
   "source": [
    "def preprocess_function(dataframe) -> pd.DataFrame:\n",
    "    import ast\n",
    "    import pandas as pd \n",
    "    import numpy as np\n",
    "\n",
    "    # Get bonus data\n",
    "    churn_df1 = dataframe['churn'].astype(str).dropna().apply(ast.literal_eval)\n",
    "    churn_df2 = pd.concat([pd.DataFrame(x) for x in churn_df1], keys=churn_df1.index)\n",
    "    churn = dataframe[['org_id']].join(churn_df2.reset_index(level=1, drop=True)).reset_index(drop=True)\n",
    "\n",
    "    # replace blanks with np.nan\n",
    "    churn['TotalCharges'] = churn['TotalCharges'].replace(' ', np.nan)\n",
    "    # convert to float64\n",
    "    churn['TotalCharges'] = churn['TotalCharges'].astype('float64')\n",
    "    \n",
    "    # Convert Target to 1 and 0\n",
    "    churn.loc[churn['Churn'] == 'Yes', 'Churn'] = 1\n",
    "    churn.loc[churn['Churn'] == 'No', 'Churn'] = 0\n",
    "    \n",
    "    churn['Churn'].astype('int')\n",
    "    \n",
    "    return(churn)\n",
    "\n",
    "save_pkl(object_to_store = preprocess_function, name = \"preprocess_function\")\n"
   ]
  },
  {
   "cell_type": "markdown",
   "id": "11341152",
   "metadata": {},
   "source": [
    "## Create model_transform.pkl"
   ]
  },
  {
   "cell_type": "markdown",
   "id": "33279d12",
   "metadata": {},
   "source": [
    "You will be performing a number of transforms using the **sklearn** library. You will need to define a ColumnTransformer which will be used in a Pipeline to selectively prepare the columns of your dataset before fitting a model on the transformed data. Once you decided what transforms to apply store the transform. For example:"
   ]
  },
  {
   "cell_type": "code",
   "execution_count": 10,
   "id": "6d704326",
   "metadata": {},
   "outputs": [
    {
     "data": {
      "text/plain": [
       "Churn\n",
       "0    5163\n",
       "1    1869\n",
       "Name: Churn, dtype: int64"
      ]
     },
     "execution_count": 10,
     "metadata": {},
     "output_type": "execute_result"
    }
   ],
   "source": [
    "churn.groupby(['Churn'])['Churn'].count()"
   ]
  },
  {
   "cell_type": "code",
   "execution_count": 11,
   "id": "55528a53",
   "metadata": {},
   "outputs": [],
   "source": [
    "from sklearn.model_selection import train_test_split\n",
    "from sklearn.compose import ColumnTransformer\n",
    "from sklearn.preprocessing import MinMaxScaler, RobustScaler, OneHotEncoder\n",
    "\n",
    "import pandas as pd\n",
    "\n",
    "churn_features = churn.drop(['Churn','org_id','customerID'], axis = 1)\n",
    "churn_target = churn['Churn'].astype(int).values\n",
    "\n",
    "# Fake data\n",
    "x_train, x_test, y_train, y_test = train_test_split(churn_features, churn_target, test_size=0.30)\n",
    "\n",
    "# ColumnTransformer \n",
    "transformer = ColumnTransformer(transformers=[\n",
    "    ('tnf1',MinMaxScaler(),['MonthlyCharges', 'SeniorCitizen', 'TotalCharges', 'tenure']),\n",
    "    ('tnf2',OneHotEncoder(),['gender', 'Partner', 'Dependents', 'PhoneService', 'MultipleLines', 'InternetService', 'OnlineSecurity', 'OnlineBackup', 'DeviceProtection', 'TechSupport', 'StreamingTV', 'StreamingMovies', 'Contract', 'PaperlessBilling', 'PaymentMethod'])\n",
    "],remainder='passthrough')\n",
    "\n",
    "# ColumnTransformer fitted\n",
    "transform_fitted = transformer.fit(x_train)\n"
   ]
  },
  {
   "cell_type": "code",
   "execution_count": 12,
   "id": "fc7f5dfa",
   "metadata": {},
   "outputs": [],
   "source": [
    "# Use save_pkl function to store model_transform object\n",
    "save_pkl(object_to_store = transform_fitted, name = \"model_transform\")"
   ]
  },
  {
   "cell_type": "markdown",
   "id": "27c7fb91",
   "metadata": {},
   "source": [
    "## Create model.pkl"
   ]
  },
  {
   "cell_type": "markdown",
   "id": "4b18d085",
   "metadata": {},
   "source": [
    "In this step after creating the model with the apropriate tests & reports you will need to perform different runs with different parameters that satisfy your business needs. Once you are happy just save the model: "
   ]
  },
  {
   "cell_type": "code",
   "execution_count": 13,
   "id": "15a23f7b",
   "metadata": {},
   "outputs": [
    {
     "data": {
      "text/html": [
       "<style>#sk-container-id-1 {color: black;background-color: white;}#sk-container-id-1 pre{padding: 0;}#sk-container-id-1 div.sk-toggleable {background-color: white;}#sk-container-id-1 label.sk-toggleable__label {cursor: pointer;display: block;width: 100%;margin-bottom: 0;padding: 0.3em;box-sizing: border-box;text-align: center;}#sk-container-id-1 label.sk-toggleable__label-arrow:before {content: \"▸\";float: left;margin-right: 0.25em;color: #696969;}#sk-container-id-1 label.sk-toggleable__label-arrow:hover:before {color: black;}#sk-container-id-1 div.sk-estimator:hover label.sk-toggleable__label-arrow:before {color: black;}#sk-container-id-1 div.sk-toggleable__content {max-height: 0;max-width: 0;overflow: hidden;text-align: left;background-color: #f0f8ff;}#sk-container-id-1 div.sk-toggleable__content pre {margin: 0.2em;color: black;border-radius: 0.25em;background-color: #f0f8ff;}#sk-container-id-1 input.sk-toggleable__control:checked~div.sk-toggleable__content {max-height: 200px;max-width: 100%;overflow: auto;}#sk-container-id-1 input.sk-toggleable__control:checked~label.sk-toggleable__label-arrow:before {content: \"▾\";}#sk-container-id-1 div.sk-estimator input.sk-toggleable__control:checked~label.sk-toggleable__label {background-color: #d4ebff;}#sk-container-id-1 div.sk-label input.sk-toggleable__control:checked~label.sk-toggleable__label {background-color: #d4ebff;}#sk-container-id-1 input.sk-hidden--visually {border: 0;clip: rect(1px 1px 1px 1px);clip: rect(1px, 1px, 1px, 1px);height: 1px;margin: -1px;overflow: hidden;padding: 0;position: absolute;width: 1px;}#sk-container-id-1 div.sk-estimator {font-family: monospace;background-color: #f0f8ff;border: 1px dotted black;border-radius: 0.25em;box-sizing: border-box;margin-bottom: 0.5em;}#sk-container-id-1 div.sk-estimator:hover {background-color: #d4ebff;}#sk-container-id-1 div.sk-parallel-item::after {content: \"\";width: 100%;border-bottom: 1px solid gray;flex-grow: 1;}#sk-container-id-1 div.sk-label:hover label.sk-toggleable__label {background-color: #d4ebff;}#sk-container-id-1 div.sk-serial::before {content: \"\";position: absolute;border-left: 1px solid gray;box-sizing: border-box;top: 0;bottom: 0;left: 50%;z-index: 0;}#sk-container-id-1 div.sk-serial {display: flex;flex-direction: column;align-items: center;background-color: white;padding-right: 0.2em;padding-left: 0.2em;position: relative;}#sk-container-id-1 div.sk-item {position: relative;z-index: 1;}#sk-container-id-1 div.sk-parallel {display: flex;align-items: stretch;justify-content: center;background-color: white;position: relative;}#sk-container-id-1 div.sk-item::before, #sk-container-id-1 div.sk-parallel-item::before {content: \"\";position: absolute;border-left: 1px solid gray;box-sizing: border-box;top: 0;bottom: 0;left: 50%;z-index: -1;}#sk-container-id-1 div.sk-parallel-item {display: flex;flex-direction: column;z-index: 1;position: relative;background-color: white;}#sk-container-id-1 div.sk-parallel-item:first-child::after {align-self: flex-end;width: 50%;}#sk-container-id-1 div.sk-parallel-item:last-child::after {align-self: flex-start;width: 50%;}#sk-container-id-1 div.sk-parallel-item:only-child::after {width: 0;}#sk-container-id-1 div.sk-dashed-wrapped {border: 1px dashed gray;margin: 0 0.4em 0.5em 0.4em;box-sizing: border-box;padding-bottom: 0.4em;background-color: white;}#sk-container-id-1 div.sk-label label {font-family: monospace;font-weight: bold;display: inline-block;line-height: 1.2em;}#sk-container-id-1 div.sk-label-container {text-align: center;}#sk-container-id-1 div.sk-container {/* jupyter's `normalize.less` sets `[hidden] { display: none; }` but bootstrap.min.css set `[hidden] { display: none !important; }` so we also need the `!important` here to be able to override the default hidden behavior on the sphinx rendered scikit-learn.org. See: https://github.com/scikit-learn/scikit-learn/issues/21755 */display: inline-block !important;position: relative;}#sk-container-id-1 div.sk-text-repr-fallback {display: none;}</style><div id=\"sk-container-id-1\" class=\"sk-top-container\"><div class=\"sk-text-repr-fallback\"><pre>LogisticRegression(max_iter=300)</pre><b>In a Jupyter environment, please rerun this cell to show the HTML representation or trust the notebook. <br />On GitHub, the HTML representation is unable to render, please try loading this page with nbviewer.org.</b></div><div class=\"sk-container\" hidden><div class=\"sk-item\"><div class=\"sk-estimator sk-toggleable\"><input class=\"sk-toggleable__control sk-hidden--visually\" id=\"sk-estimator-id-1\" type=\"checkbox\" checked><label for=\"sk-estimator-id-1\" class=\"sk-toggleable__label sk-toggleable__label-arrow\">LogisticRegression</label><div class=\"sk-toggleable__content\"><pre>LogisticRegression(max_iter=300)</pre></div></div></div></div></div>"
      ],
      "text/plain": [
       "LogisticRegression(max_iter=300)"
      ]
     },
     "execution_count": 13,
     "metadata": {},
     "output_type": "execute_result"
    }
   ],
   "source": [
    "from sklearn.linear_model import LogisticRegression\n",
    "from sklearn import metrics\n",
    "from sklearn.metrics import recall_score, precision_score\n",
    "from sklearn.metrics import plot_confusion_matrix\n",
    "\n",
    "# fit a lightGBM model to the data\n",
    "model = LogisticRegression(max_iter=300)\n",
    "\n",
    "\n",
    "# PreProcess Data\n",
    "x_train_transform_pre_processed = transform_fitted.transform(x_train)\n",
    "\n",
    "# Fit & Train Model\n",
    "model.fit(x_train_transform_pre_processed, y_train)"
   ]
  },
  {
   "cell_type": "code",
   "execution_count": 14,
   "id": "fa25f943",
   "metadata": {},
   "outputs": [],
   "source": [
    "# Test the model\n",
    "# make predictions\n",
    "expected_y  = y_test\n",
    "x_test_transform_pre_processed = transform_fitted.transform(x_test)\n",
    "\n",
    "predicted_y = model.predict(x_test_transform_pre_processed)"
   ]
  },
  {
   "cell_type": "code",
   "execution_count": 15,
   "id": "0d1b9bb7",
   "metadata": {},
   "outputs": [
    {
     "name": "stdout",
     "output_type": "stream",
     "text": [
      "Light GBM Model classification\n",
      "              precision    recall  f1-score   support\n",
      "\n",
      "           0       0.84      0.90      0.87      1539\n",
      "           1       0.66      0.53      0.59       571\n",
      "\n",
      "    accuracy                           0.80      2110\n",
      "   macro avg       0.75      0.71      0.73      2110\n",
      "weighted avg       0.79      0.80      0.79      2110\n",
      "\n"
     ]
    }
   ],
   "source": [
    "print('Light GBM Model classification'); print(metrics.classification_report(expected_y, predicted_y))\n",
    "\n"
   ]
  },
  {
   "cell_type": "code",
   "execution_count": 16,
   "id": "e64b5e6d",
   "metadata": {},
   "outputs": [
    {
     "name": "stderr",
     "output_type": "stream",
     "text": [
      "/Users/tonycini/opt/anaconda3/lib/python3.9/site-packages/sklearn/utils/deprecation.py:87: FutureWarning: Function plot_confusion_matrix is deprecated; Function `plot_confusion_matrix` is deprecated in 1.0 and will be removed in 1.2. Use one of the class methods: ConfusionMatrixDisplay.from_predictions or ConfusionMatrixDisplay.from_estimator.\n",
      "  warnings.warn(msg, category=FutureWarning)\n"
     ]
    },
    {
     "data": {
      "text/plain": [
       "<sklearn.metrics._plot.confusion_matrix.ConfusionMatrixDisplay at 0x7f9ed1c1f3a0>"
      ]
     },
     "execution_count": 16,
     "metadata": {},
     "output_type": "execute_result"
    },
    {
     "data": {
      "image/png": "[encoded data removed]",
      "text/plain": [
       "<Figure size 432x288 with 2 Axes>"
      ]
     },
     "metadata": {
      "needs_background": "light"
     },
     "output_type": "display_data"
    }
   ],
   "source": [
    "plot_confusion_matrix(model, x_test_transform_pre_processed, y_test)"
   ]
  },
  {
   "cell_type": "code",
   "execution_count": 17,
   "id": "9a144729",
   "metadata": {},
   "outputs": [],
   "source": [
    "# Use save_pkl function to store model_transform object\n",
    "save_pkl(object_to_store = model, name = \"model\")\n"
   ]
  },
  {
   "cell_type": "code",
   "execution_count": null,
   "id": "ffc17fee",
   "metadata": {},
   "outputs": [],
   "source": []
  },
  {
   "cell_type": "markdown",
   "id": "99fcda7d",
   "metadata": {},
   "source": [
    "## Model Predict Flow\n"
   ]
  },
  {
   "cell_type": "code",
   "execution_count": 18,
   "id": "2861d90c",
   "metadata": {},
   "outputs": [
    {
     "data": {
      "text/html": [
       "<div>\n",
       "<style scoped>\n",
       "    .dataframe tbody tr th:only-of-type {\n",
       "        vertical-align: middle;\n",
       "    }\n",
       "\n",
       "    .dataframe tbody tr th {\n",
       "        vertical-align: top;\n",
       "    }\n",
       "\n",
       "    .dataframe thead th {\n",
       "        text-align: right;\n",
       "    }\n",
       "</style>\n",
       "<table border=\"1\" class=\"dataframe\">\n",
       "  <thead>\n",
       "    <tr style=\"text-align: right;\">\n",
       "      <th></th>\n",
       "      <th>org_id</th>\n",
       "      <th>churn</th>\n",
       "    </tr>\n",
       "  </thead>\n",
       "  <tbody>\n",
       "    <tr>\n",
       "      <th>0</th>\n",
       "      <td>1</td>\n",
       "      <td>[{'customerID': '9764-REAFF', 'gender': 'Femal...</td>\n",
       "    </tr>\n",
       "  </tbody>\n",
       "</table>\n",
       "</div>"
      ],
      "text/plain": [
       "   org_id                                              churn\n",
       "0       1  [{'customerID': '9764-REAFF', 'gender': 'Femal..."
      ]
     },
     "execution_count": 18,
     "metadata": {},
     "output_type": "execute_result"
    }
   ],
   "source": [
    "from fastavro import parse_schema, json_reader\n",
    "from pandas import DataFrame\n",
    "\n",
    "schemas = {}\n",
    "schema = {\n",
    "    'doc': 'Predict Customer Churn',\n",
    "    'name': 'Churn',\n",
    "    'namespace': 'test',\n",
    "    'type': 'record',\n",
    "    'fields': [\n",
    "        {'name': 'customerID', 'type': 'string'},\n",
    "        {'name': 'gender', 'type': 'string'},\n",
    "        {'name': 'SeniorCitizen', 'type': 'int'},\n",
    "        {'name': 'Partner', 'type': 'string'},\n",
    "        {'name': 'Dependents', 'type': 'string'},\n",
    "        {'name': 'tenure', 'type': 'int'},\n",
    "        {'name': 'PhoneService', 'type': 'string'},\n",
    "        {'name': 'MultipleLines', 'type': 'string'},\n",
    "        {'name': 'InternetService', 'type': 'string'},\n",
    "        {'name': 'OnlineSecurity', 'type': 'string'},\n",
    "        {'name': 'OnlineBackup', 'type': 'string'},\n",
    "        {'name': 'DeviceProtection', 'type': 'string'},\n",
    "        {'name': 'TechSupport', 'type': 'string'},\n",
    "        {'name': 'StreamingTV', 'type': 'string'},\n",
    "        {'name': 'StreamingMovies', 'type': 'string'},\n",
    "        {'name': 'Contract', 'type': 'string'},\n",
    "        {'name': 'PaperlessBilling', 'type': 'string'},\n",
    "        {'name': 'PaymentMethod', 'type': 'string'},\n",
    "        {'name': 'MonthlyCharges', 'type': 'float'},\n",
    "        {'name': 'TotalCharges', 'type': 'float'},\n",
    "        {'name': 'Churn', 'type': 'string'}\n",
    "    ],\n",
    "}\n",
    "\n",
    "schemas['churn'] = parse_schema(schema)\n",
    "\n",
    "\n",
    "def load(collection):\n",
    "    records = []\n",
    "    with open(collection + '.json', 'r') as fo:\n",
    "        avro_reader = json_reader(fo, schemas[collection])\n",
    "        for record in avro_reader:\n",
    "            records.append(record)\n",
    "    return records[1:2]\n",
    "\n",
    "\n",
    "data = {\n",
    "    'org_id': 1,  # organization id (added by the \"loader\")\n",
    "    'churn': [load('churn')],  # bonuses for this user\n",
    "}\n",
    "\n",
    "data\n",
    "dataframe = DataFrame(data)\n",
    "dataframe.head()"
   ]
  },
  {
   "cell_type": "code",
   "execution_count": 19,
   "id": "f9992523",
   "metadata": {},
   "outputs": [
    {
     "name": "stdout",
     "output_type": "stream",
     "text": [
      "Loading pre-process function\n",
      "Loading Transform Pipeline\n",
      "Transform the loaded data using the Model Transform\n",
      "load pre-trained model\n",
      "Predict Self Exclution using Model\n"
     ]
    },
    {
     "data": {
      "text/html": [
       "<div>\n",
       "<style scoped>\n",
       "    .dataframe tbody tr th:only-of-type {\n",
       "        vertical-align: middle;\n",
       "    }\n",
       "\n",
       "    .dataframe tbody tr th {\n",
       "        vertical-align: top;\n",
       "    }\n",
       "\n",
       "    .dataframe thead th {\n",
       "        text-align: right;\n",
       "    }\n",
       "</style>\n",
       "<table border=\"1\" class=\"dataframe\">\n",
       "  <thead>\n",
       "    <tr style=\"text-align: right;\">\n",
       "      <th></th>\n",
       "      <th>org_id</th>\n",
       "      <th>customerID</th>\n",
       "      <th>churn</th>\n",
       "    </tr>\n",
       "  </thead>\n",
       "  <tbody>\n",
       "    <tr>\n",
       "      <th>0</th>\n",
       "      <td>1</td>\n",
       "      <td>9764-REAFF</td>\n",
       "      <td>0</td>\n",
       "    </tr>\n",
       "  </tbody>\n",
       "</table>\n",
       "</div>"
      ],
      "text/plain": [
       "   org_id  customerID  churn\n",
       "0       1  9764-REAFF      0"
      ]
     },
     "execution_count": 19,
     "metadata": {},
     "output_type": "execute_result"
    }
   ],
   "source": [
    "def local_load_pkl_model(model_name: str, path: str = './'):\n",
    "    \"\"\"\n",
    "    :param model_name: name of pickled model to load\n",
    "    :param path: path to the pickled model\n",
    "    :return: the pickle model\n",
    "    \"\"\"\n",
    "    with open('{}/{}.pkl'.format(path, model_name), 'rb') as file:\n",
    "        b = pickle.load(file)\n",
    "\n",
    "    return b\n",
    "\n",
    "print('Loading pre-process function')\n",
    "preprocess_function = local_load_pkl_model(model_name=f'preprocess_function')\n",
    "preprocess_data = preprocess_function(dataframe)\n",
    "preprocess_data.drop(['Churn'], axis =1, inplace =True)\n",
    "    \n",
    "    \n",
    "print('Loading Transform Pipeline')\n",
    "model_transform = local_load_pkl_model(model_name=f'model_transform')\n",
    "print('Transform the loaded data using the Model Transform')\n",
    "transformed_data = model_transform.transform(preprocess_data)\n",
    "    \n",
    "    \n",
    "print('load pre-trained model')\n",
    "model = local_load_pkl_model(model_name=f\"model\")\n",
    "\n",
    "print('Predict Self Exclution using Model')\n",
    "preprocess_data[f'churn'] = model.predict(transformed_data) \n",
    "    \n",
    "prediction = preprocess_data[['org_id', 'customerID', 'churn']]\n",
    "prediction.head()\n"
   ]
  },
  {
   "cell_type": "code",
   "execution_count": null,
   "id": "9580d35f",
   "metadata": {},
   "outputs": [],
   "source": []
  },
  {
   "cell_type": "markdown",
   "id": "7bf623de",
   "metadata": {},
   "source": [
    "## requirements.txt"
   ]
  },
  {
   "cell_type": "markdown",
   "id": "dad056c3",
   "metadata": {},
   "source": [
    "The final step would be to provide us with all the libraries that those pkl objects are using. So for example in the model code cell you are importing **lightgbm** so we will need to know about this library. The **requirements.txt** correspond to used libraries and packages for your enviornment:"
   ]
  },
  {
   "cell_type": "markdown",
   "id": "50fac158",
   "metadata": {},
   "source": [
    "lightgbm <br>\n",
    "scikit-learn <br>\n",
    "pandas <br>\n",
    "dill"
   ]
  },
  {
   "cell_type": "markdown",
   "id": "4672aece",
   "metadata": {},
   "source": [
    "**So for the above examples it's pretty straight forward and the contents of this file are the above 3 libraries.**"
   ]
  },
  {
   "cell_type": "markdown",
   "id": "890c3d83",
   "metadata": {},
   "source": [
    "  "
   ]
  },
  {
   "cell_type": "markdown",
   "id": "af4e555e",
   "metadata": {},
   "source": [
    "Note that if you have some version dependency of a specific library make sure to define the specific version\n",
    "required. For example:"
   ]
  },
  {
   "cell_type": "markdown",
   "id": "5f76863f",
   "metadata": {},
   "source": [
    "lightgbm == 3.3.2 <br>\n",
    "scikit-learn == 0.24.2 <br>\n",
    "pandas == 1.3.4 <br>\n",
    "dill"
   ]
  },
  {
   "cell_type": "code",
   "execution_count": null,
   "id": "d06402e9",
   "metadata": {},
   "outputs": [],
   "source": []
  },
  {
   "cell_type": "code",
   "execution_count": null,
   "id": "1ec641d9",
   "metadata": {},
   "outputs": [],
   "source": []
  }
 ],
 "metadata": {
  "kernelspec": {
   "display_name": "Python 3 (ipykernel)",
   "language": "python",
   "name": "python3"
  },
  "language_info": {
   "codemirror_mode": {
    "name": "ipython",
    "version": 3
   },
   "file_extension": ".py",
   "mimetype": "text/x-python",
   "name": "python",
   "nbconvert_exporter": "python",
   "pygments_lexer": "ipython3",
   "version": "3.9.12"
  }
 },
 "nbformat": 4,
 "nbformat_minor": 5
}
